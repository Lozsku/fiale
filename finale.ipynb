{
 "cells": [
  {
   "cell_type": "code",
   "execution_count": 2,
   "id": "e7837336",
   "metadata": {},
   "outputs": [],
   "source": [
    "import librosa"
   ]
  },
  {
   "cell_type": "code",
   "execution_count": 3,
   "id": "f9fef68a",
   "metadata": {},
   "outputs": [],
   "source": [
    "import soundfile as sf"
   ]
  },
  {
   "cell_type": "code",
   "execution_count": 4,
   "id": "aa29c169",
   "metadata": {},
   "outputs": [],
   "source": [
    "from scipy.signal import stft"
   ]
  },
  {
   "cell_type": "code",
   "execution_count": 5,
   "id": "2938db7b",
   "metadata": {},
   "outputs": [],
   "source": [
    "from scipy.signal import resample"
   ]
  },
  {
   "cell_type": "code",
   "execution_count": 6,
   "id": "8a0912cc",
   "metadata": {},
   "outputs": [],
   "source": [
    "import scipy.io.wavfile as wavfile"
   ]
  },
  {
   "cell_type": "code",
   "execution_count": 7,
   "id": "2bf3664d",
   "metadata": {},
   "outputs": [],
   "source": [
    "import numpy as np\n",
    "import scipy.signal as signal\n",
    "import soundfile as sf\n",
    "import matplotlib.pyplot as plt"
   ]
  },
  {
   "cell_type": "code",
   "execution_count": 8,
   "id": "335d7597",
   "metadata": {},
   "outputs": [],
   "source": [
    "import tensorflow as tf\n",
    "from tensorflow.keras.models import Model\n",
    "from tensorflow.keras.layers import Input, Conv2D, Activation, BatchNormalization\n",
    "from tensorflow.keras.activations import tanh, relu, sigmoid\n",
    "import numpy as np\n"
   ]
  },
  {
   "cell_type": "code",
   "execution_count": 9,
   "id": "2796b2d9",
   "metadata": {},
   "outputs": [],
   "source": [
    "input_file = 'babble_8KHz.wav'\n",
    "output_file = 'resampled_16KHz.wav'\n",
    "target_sr = 16000"
   ]
  },
  {
   "cell_type": "code",
   "execution_count": 10,
   "id": "b122c490",
   "metadata": {},
   "outputs": [],
   "source": [
    "\n",
    "# Load the audio file\n",
    "audio, sr = librosa.load(input_file, sr=None)\n",
    "\n",
    "# Resample the audio to the target sample rate\n",
    "resampled_audio = librosa.resample(audio,orig_sr= sr, target_sr=target_sr)\n",
    "\n",
    "# Save the resampled audio to a new file\n",
    "# librosa.output.write_wav(output_file,y= resampled_audio, sr=target_sr)\n",
    "sf.write(output_file, resampled_audio, target_sr)"
   ]
  },
  {
   "cell_type": "code",
   "execution_count": null,
   "id": "c64a41d9",
   "metadata": {},
   "outputs": [],
   "source": []
  },
  {
   "cell_type": "code",
   "execution_count": 12,
   "id": "1f51ccf0",
   "metadata": {},
   "outputs": [],
   "source": [
    "babble, fs_babble = sf.read(\"resampled_16KHz.wav\")"
   ]
  },
  {
   "cell_type": "code",
   "execution_count": 13,
   "id": "dfdefa1e",
   "metadata": {},
   "outputs": [
    {
     "data": {
      "text/plain": [
       "(3763688,)"
      ]
     },
     "execution_count": 13,
     "metadata": {},
     "output_type": "execute_result"
    }
   ],
   "source": [
    "babble.shape"
   ]
  },
  {
   "cell_type": "code",
   "execution_count": 14,
   "id": "3991c50b",
   "metadata": {},
   "outputs": [
    {
     "data": {
      "text/plain": [
       "array([-0.02706909, -0.04766846, -0.0557251 , ...,  0.03762817,\n",
       "        0.03265381,  0.0149231 ])"
      ]
     },
     "execution_count": 14,
     "metadata": {},
     "output_type": "execute_result"
    }
   ],
   "source": [
    "babble"
   ]
  },
  {
   "cell_type": "code",
   "execution_count": null,
   "id": "c3e5b269",
   "metadata": {},
   "outputs": [],
   "source": []
  },
  {
   "cell_type": "code",
   "execution_count": 20,
   "id": "d04c9c55",
   "metadata": {},
   "outputs": [],
   "source": [
    "# Initialization\n",
    "Fs = 16000  # Sample frequency (Hz)\n",
    "c = 340  # Sound velocity (m/s)\n",
    "K = 256  # FFT length\n",
    "M = 2  # Number of sensors\n",
    "d = 0.2  # Inter sensor distance (m)\n",
    "type_nf = 'spherical'  # Type of noise field: 'spherical' or 'cylindrical'\n",
    "L = 14400  # Data length"
   ]
  },
  {
   "cell_type": "code",
   "execution_count": 15,
   "id": "5a114a03",
   "metadata": {},
   "outputs": [],
   "source": [
    "data, Fs_data= sf.read(\"resampled_16KHz.wav\")"
   ]
  },
  {
   "cell_type": "code",
   "execution_count": 16,
   "id": "e3001fae",
   "metadata": {},
   "outputs": [],
   "source": [
    "data=data[:14400]"
   ]
  },
  {
   "cell_type": "code",
   "execution_count": 17,
   "id": "2e01694e",
   "metadata": {},
   "outputs": [
    {
     "data": {
      "text/plain": [
       "(14400,)"
      ]
     },
     "execution_count": 17,
     "metadata": {},
     "output_type": "execute_result"
    }
   ],
   "source": [
    "data.shape"
   ]
  },
  {
   "cell_type": "code",
   "execution_count": 18,
   "id": "bd6abbd9",
   "metadata": {},
   "outputs": [
    {
     "data": {
      "text/plain": [
       "16000"
      ]
     },
     "execution_count": 18,
     "metadata": {},
     "output_type": "execute_result"
    }
   ],
   "source": [
    "Fs_data"
   ]
  },
  {
   "cell_type": "code",
   "execution_count": null,
   "id": "e60b9b78",
   "metadata": {},
   "outputs": [],
   "source": []
  },
  {
   "cell_type": "code",
   "execution_count": 21,
   "id": "c8e9b676",
   "metadata": {},
   "outputs": [],
   "source": [
    "if Fs != Fs_data:\n",
    "    raise ValueError('Sample frequency of input file is incorrect.')\n",
    "data = data - np.mean(data)\n",
    "babble = np.zeros((L, M))\n",
    "for m in range(M):\n",
    "    babble[:, m] = data[:]"
   ]
  },
  {
   "cell_type": "code",
   "execution_count": 22,
   "id": "5600a55c",
   "metadata": {},
   "outputs": [],
   "source": [
    "# Generate matrix with desired spatial coherence\n",
    "ww = Fs * np.arange(K // 2 + 1) / K\n",
    "DC = np.zeros((M, M, K // 2 + 1))\n",
    "for p in range(M):\n",
    "    for q in range(M):\n",
    "        if p == q:\n",
    "            DC[p, q, :] = np.ones((1, 1, K // 2 + 1))\n",
    "        else:\n",
    "            if type_nf == 'spherical':\n",
    "                DC[p, q, :] = np.sinc(ww * np.abs(p - q) * d / (c * np.pi))\n",
    "            elif type_nf == 'cylindrical':\n",
    "                DC[p, q, :] = signal.jn(0, ww * np.abs(p - q) * d / c)\n",
    "            else:\n",
    "                raise ValueError('Unknown noise field.')"
   ]
  },
  {
   "cell_type": "code",
   "execution_count": 23,
   "id": "70d8dc05",
   "metadata": {},
   "outputs": [
    {
     "data": {
      "text/plain": [
       "129"
      ]
     },
     "execution_count": 23,
     "metadata": {},
     "output_type": "execute_result"
    }
   ],
   "source": [
    "len(DC[0][0])"
   ]
  },
  {
   "cell_type": "code",
   "execution_count": 24,
   "id": "13b174d8",
   "metadata": {},
   "outputs": [],
   "source": [
    "# Compare desired and generated coherence\n",
    "K_eval = 256\n",
    "ww = 2 * np.pi * Fs * np.arange(K_eval // 2 + 1) / K_eval\n",
    "sc_theory = np.zeros((M - 1, K_eval // 2 + 1))\n",
    "sc_generated = np.zeros((M - 1, K_eval // 2 + 1))"
   ]
  },
  {
   "cell_type": "code",
   "execution_count": 25,
   "id": "b03f08d5",
   "metadata": {},
   "outputs": [],
   "source": [
    "# Generate sensor signals with desired spatial coherence\n",
    "def mix_signals(babble, DC, method):\n",
    "    L, M = babble.shape\n",
    "    x = np.zeros((L, M-1))\n",
    "    for k in range(K // 2 + 1):\n",
    "        if method == 'cholesky':\n",
    "            mat_t=np.array(DC[:,:,k])\n",
    "            C = linalg.cholesky(mat_t)\n",
    "        elif method == 'eigenvalue':\n",
    "            eigenvalues, eigenvectors = np.linalg.eig(DC[:, :, k])\n",
    "            eigenvalues = np.maximum(eigenvalues, 0)\n",
    "            C = eigenvectors @ np.diag(np.sqrt(eigenvalues)) @ eigenvectors.T\n",
    "        else:\n",
    "            raise ValueError('Unknown method.')\n",
    "        x_k = babble @ C.T\n",
    "        x[:, :M-1] = x_k[:, :M-1]\n",
    "    return x"
   ]
  },
  {
   "cell_type": "code",
   "execution_count": 26,
   "id": "ded5339f",
   "metadata": {},
   "outputs": [],
   "source": [
    "x = mix_signals(babble, DC, 'eigenvalue')"
   ]
  },
  {
   "cell_type": "code",
   "execution_count": 27,
   "id": "2307da9e",
   "metadata": {},
   "outputs": [
    {
     "data": {
      "text/plain": [
       "array([[-0.02627196],\n",
       "       [-0.04455214],\n",
       "       [-0.05170172],\n",
       "       ...,\n",
       "       [ 0.00322005],\n",
       "       [-0.00170882],\n",
       "       [-0.00114011]])"
      ]
     },
     "execution_count": 27,
     "metadata": {},
     "output_type": "execute_result"
    }
   ],
   "source": [
    "x"
   ]
  },
  {
   "cell_type": "code",
   "execution_count": 28,
   "id": "b0ede843",
   "metadata": {},
   "outputs": [
    {
     "data": {
      "text/plain": [
       "(14400, 1)"
      ]
     },
     "execution_count": 28,
     "metadata": {},
     "output_type": "execute_result"
    }
   ],
   "source": [
    "x.shape"
   ]
  },
  {
   "cell_type": "code",
   "execution_count": 29,
   "id": "66dcbfde",
   "metadata": {},
   "outputs": [
    {
     "data": {
      "text/plain": [
       "14400"
      ]
     },
     "execution_count": 29,
     "metadata": {},
     "output_type": "execute_result"
    }
   ],
   "source": [
    "len(x)"
   ]
  },
  {
   "cell_type": "code",
   "execution_count": 30,
   "id": "831c17c5",
   "metadata": {},
   "outputs": [
    {
     "name": "stdout",
     "output_type": "stream",
     "text": [
      "0\n"
     ]
    }
   ],
   "source": [
    "sum=0\n",
    "xx=np.zeros(L)\n",
    "xx[:]=x[:,0]\n",
    "# for a in x:\n",
    "#     xx\n",
    "#     if(a[1]>0):\n",
    "#         print(\"fds\")\n",
    "#         sum+=a[1]\n",
    "print(sum)"
   ]
  },
  {
   "cell_type": "code",
   "execution_count": 31,
   "id": "83e07b89",
   "metadata": {},
   "outputs": [
    {
     "data": {
      "text/plain": [
       "(14400,)"
      ]
     },
     "execution_count": 31,
     "metadata": {},
     "output_type": "execute_result"
    }
   ],
   "source": [
    "xx.shape"
   ]
  },
  {
   "cell_type": "code",
   "execution_count": null,
   "id": "ac78724f",
   "metadata": {},
   "outputs": [],
   "source": []
  },
  {
   "cell_type": "code",
   "execution_count": 32,
   "id": "0f5b1e81",
   "metadata": {},
   "outputs": [
    {
     "name": "stdout",
     "output_type": "stream",
     "text": [
      "STFT shape: (129, 115)\n"
     ]
    }
   ],
   "source": [
    "window_length = 256\n",
    "frame_shift = 128\n",
    "padding_length = window_length - (14400 % window_length)\n",
    "padded_xx = np.pad(xx, (0, padding_length), 'constant')\n",
    "frequencies, time, X=stft(padded_xx, fs=16000, window='hann', nperseg=window_length)\n",
    "# Print the shape of the STFT result\n",
    "print(\"STFT shape:\", X.shape)"
   ]
  },
  {
   "cell_type": "code",
   "execution_count": 33,
   "id": "5f604649",
   "metadata": {},
   "outputs": [
    {
     "data": {
      "text/plain": [
       "115"
      ]
     },
     "execution_count": 33,
     "metadata": {},
     "output_type": "execute_result"
    }
   ],
   "source": [
    "len(time)"
   ]
  },
  {
   "cell_type": "code",
   "execution_count": 34,
   "id": "ad7a24e1",
   "metadata": {},
   "outputs": [
    {
     "data": {
      "text/plain": [
       "array([[-5.25218726e-03+0.00000000e+00j, -1.17549176e-02+0.00000000e+00j,\n",
       "         2.83644508e-03+0.00000000e+00j, ...,\n",
       "         2.24710668e-02+0.00000000e+00j,  4.08709108e-03+0.00000000e+00j,\n",
       "         0.00000000e+00+0.00000000e+00j],\n",
       "       [-2.16113397e-03-7.25068759e-03j,  2.87110801e-03+3.55796617e-03j,\n",
       "        -4.39967140e-03-4.34880163e-04j, ...,\n",
       "        -1.36689659e-02+6.68728105e-03j,  1.49502530e-03-3.68358778e-03j,\n",
       "         0.00000000e+00+0.00000000e+00j],\n",
       "       [ 1.08425446e-02-2.92868741e-04j,  7.47955380e-03+5.34614973e-03j,\n",
       "         3.73226026e-03+2.06304374e-03j, ...,\n",
       "         3.27981206e-03-9.34120796e-03j, -2.67251109e-03-2.50668232e-03j,\n",
       "         0.00000000e+00+0.00000000e+00j],\n",
       "       ...,\n",
       "       [-6.17108233e-05+2.13504981e-06j,  3.47889641e-07-3.55724738e-07j,\n",
       "         1.98882122e-07-3.88802153e-07j, ...,\n",
       "        -1.98624490e-06-3.51479458e-07j, -1.75824644e-06+8.57762057e-08j,\n",
       "         0.00000000e+00+0.00000000e+00j],\n",
       "       [ 6.19766194e-05-1.12116052e-06j, -6.70131740e-07+3.54972993e-07j,\n",
       "         1.77329854e-08+9.86183859e-08j, ...,\n",
       "         2.15429074e-08-1.72222191e-06j,  3.29345921e-08+1.73842854e-06j,\n",
       "         0.00000000e+00+0.00000000e+00j],\n",
       "       [-6.19144314e-05+0.00000000e+00j,  6.28467811e-07+0.00000000e+00j,\n",
       "        -1.77895468e-07+0.00000000e+00j, ...,\n",
       "         1.63637436e-06+0.00000000e+00j,  1.72689732e-06+0.00000000e+00j,\n",
       "         0.00000000e+00+0.00000000e+00j]])"
      ]
     },
     "execution_count": 34,
     "metadata": {},
     "output_type": "execute_result"
    }
   ],
   "source": [
    "X"
   ]
  },
  {
   "cell_type": "code",
   "execution_count": 35,
   "id": "e539d45c",
   "metadata": {},
   "outputs": [
    {
     "data": {
      "text/plain": [
       "(129, 115)"
      ]
     },
     "execution_count": 35,
     "metadata": {},
     "output_type": "execute_result"
    }
   ],
   "source": [
    "X.shape\n"
   ]
  },
  {
   "cell_type": "code",
   "execution_count": null,
   "id": "ad51a984",
   "metadata": {},
   "outputs": [],
   "source": []
  },
  {
   "cell_type": "code",
   "execution_count": 36,
   "id": "2f4d4166",
   "metadata": {},
   "outputs": [],
   "source": [
    "# function for SNR\n",
    "\n",
    "\n",
    "def apply_snr(hrir,noise, snr):\n",
    "    \n",
    "    duration = 4.5 / 1000  # 4.5 ms\n",
    "\n",
    "    # Define the original and target sampling rates\n",
    "    original_fs = 1 / duration  # Sampling rate in Hz\n",
    "    target_fs = 16000  # Target sampling rate in Hz\n",
    "\n",
    "    # Calculate the number of samples in the original HRIR\n",
    "    original_num_samples = len(hrir)\n",
    "\n",
    "    # Calculate the number of samples in the target HRIR\n",
    "    target_num_samples = int(original_num_samples * (target_fs / original_fs))\n",
    "\n",
    "    # Resample the HRIR to the target sampling rate\n",
    "    signal = resample(hrir, target_num_samples)\n",
    "\n",
    "    # Load the WAV file\n",
    "    #sample_rate, signal = wavfile.read(wav_file)\n",
    "\n",
    "    # Calculate the noise energy\n",
    "    signal_power = np.mean(signal ** 2)\n",
    "    \n",
    "    desired_noise_power = signal_power / (10**(snr / 10))\n",
    "\n",
    "    # Scale the noise to the desired power\n",
    "    current_noise_power = np.mean(noise**2)\n",
    "    scaled_noise = noise * np.sqrt(desired_noise_power / current_noise_power)\n",
    "\n",
    "    return scaled_noise"
   ]
  },
  {
   "cell_type": "code",
   "execution_count": null,
   "id": "97fa35f3",
   "metadata": {},
   "outputs": [],
   "source": []
  },
  {
   "cell_type": "code",
   "execution_count": 37,
   "id": "e13a4196",
   "metadata": {},
   "outputs": [],
   "source": [
    "def apply_stft_hrir(hrir):\n",
    "    \n",
    "    duration = 4.5 / 1000  # 4.5 ms\n",
    "\n",
    "    # Define the original and target sampling rates\n",
    "    original_fs = 1 / duration  # Sampling rate in Hz\n",
    "    target_fs = 16000  # Target sampling rate in Hz\n",
    "\n",
    "    # Calculate the number of samples in the original HRIR\n",
    "    original_num_samples = len(hrir)\n",
    "\n",
    "    # Calculate the number of samples in the target HRIR\n",
    "    target_num_samples = int(original_num_samples * (target_fs / original_fs))\n",
    "\n",
    "    # Resample the HRIR to the target sampling rate\n",
    "    resampled_hrir = resample(hrir, target_num_samples)\n",
    "    \n",
    "    #xx=resampled_hrir\n",
    "    \n",
    "    \n",
    "    window_length = 256\n",
    "    frame_shift = 128\n",
    "\n",
    "    # Calculate the required padding length\n",
    "    padding_length = window_length - (14400 % window_length)\n",
    "\n",
    "    # Add padding to the time series array\n",
    "    padded_time_series = np.pad(resampled_hrir, (0, padding_length), 'constant')\n",
    "\n",
    "    # Apply STFT\n",
    "    frequencies, times, Zxx = stft(padded_time_series, fs=16000, window='hann', nperseg=window_length, noverlap=window_length-frame_shift)\n",
    "\n",
    "    # Print the shape of the STFT result\n",
    "#     print(\"STFT shape:\", Zxx.shape)\n",
    "#     ret = np.arange(128 * 31).reshape(128, 31)\n",
    "#     ret=Zxx[1:129][:31]\n",
    "    list=[]\n",
    "    for i in range(128):\n",
    "        row = []\n",
    "        for j in range(31):\n",
    "            row.append(Zxx[i+1][j])\n",
    "        list.append(row)\n",
    "    return list"
   ]
  },
  {
   "cell_type": "code",
   "execution_count": 38,
   "id": "fcae8c3c",
   "metadata": {},
   "outputs": [],
   "source": [
    "def apply_stft_noise(hrir,noise,snr):\n",
    "    xx=apply_snr(hrir,noise,snr)\n",
    "    \n",
    "    window_length = 256\n",
    "    frame_shift = 128\n",
    "    padding_length = window_length - (14400 % window_length)\n",
    "    padded_xx = np.pad(xx, (0, padding_length), 'constant')\n",
    "    frequencies, time, X=stft(padded_xx, fs=16000, window='hann', nperseg=window_length)\n",
    "    # Print the shape of the STFT result\n",
    "#     print(\"STFT shape:\", X.shape)\n",
    "#     ret = np.arange(128 * 31).reshape(128, 31)\n",
    "#     ret=X[1:129][0:31]\n",
    "    list=[]\n",
    "    for i in range(128):\n",
    "        row = []\n",
    "        for j in range(31):\n",
    "            row.append(X[i+1][j])\n",
    "        list.append(row)\n",
    "    return list\n",
    "\n",
    "    "
   ]
  },
  {
   "cell_type": "code",
   "execution_count": null,
   "id": "03502090",
   "metadata": {},
   "outputs": [],
   "source": []
  },
  {
   "cell_type": "code",
   "execution_count": 39,
   "id": "24069250",
   "metadata": {},
   "outputs": [],
   "source": [
    "import json"
   ]
  },
  {
   "cell_type": "code",
   "execution_count": 40,
   "id": "07e9227a",
   "metadata": {},
   "outputs": [],
   "source": [
    "f = open('dictonary_DP_RTF.json')"
   ]
  },
  {
   "cell_type": "code",
   "execution_count": 41,
   "id": "1c8ab39d",
   "metadata": {},
   "outputs": [],
   "source": [
    "jk=json.load(f)"
   ]
  },
  {
   "cell_type": "code",
   "execution_count": 42,
   "id": "cb36e06d",
   "metadata": {},
   "outputs": [
    {
     "data": {
      "text/plain": [
       "list"
      ]
     },
     "execution_count": 42,
     "metadata": {},
     "output_type": "execute_result"
    }
   ],
   "source": [
    "type(jk['subject_003']['hrir_l'][0])"
   ]
  },
  {
   "cell_type": "code",
   "execution_count": null,
   "id": "c3657af1",
   "metadata": {},
   "outputs": [],
   "source": []
  },
  {
   "cell_type": "code",
   "execution_count": 47,
   "id": "fe70b164",
   "metadata": {},
   "outputs": [
    {
     "data": {
      "text/plain": [
       "dict_keys(['OnR', 'OnL', 'ITD', 'hrir_r', 'hrir_l', 'name'])"
      ]
     },
     "execution_count": 47,
     "metadata": {},
     "output_type": "execute_result"
    }
   ],
   "source": [
    "jk['subject_003'].keys()"
   ]
  },
  {
   "cell_type": "code",
   "execution_count": null,
   "id": "9b513f47",
   "metadata": {},
   "outputs": [],
   "source": []
  },
  {
   "cell_type": "code",
   "execution_count": null,
   "id": "9811b00c",
   "metadata": {},
   "outputs": [],
   "source": []
  },
  {
   "cell_type": "code",
   "execution_count": 43,
   "id": "945c2992",
   "metadata": {},
   "outputs": [
    {
     "data": {
      "text/plain": [
       "dict_keys(['subject_003', 'subject_008', 'subject_009', 'subject_010', 'subject_011', 'subject_012', 'subject_015', 'subject_017', 'subject_018', 'subject_019', 'subject_020', 'subject_021', 'subject_027', 'subject_028', 'subject_033', 'subject_040', 'subject_044', 'subject_048', 'subject_050', 'subject_051', 'subject_058', 'subject_059', 'subject_060', 'subject_061', 'subject_065', 'subject_119', 'subject_124', 'subject_126', 'subject_127', 'subject_131', 'subject_133', 'subject_134', 'subject_135', 'subject_137', 'subject_147', 'subject_148', 'subject_152', 'subject_153', 'subject_154', 'subject_155', 'subject_156', 'subject_158', 'subject_162', 'subject_163', 'subject_165'])"
      ]
     },
     "execution_count": 43,
     "metadata": {},
     "output_type": "execute_result"
    }
   ],
   "source": [
    "jk.keys()"
   ]
  },
  {
   "cell_type": "code",
   "execution_count": 44,
   "id": "53a85eae",
   "metadata": {},
   "outputs": [],
   "source": [
    "training=['subject_010', 'subject_011', 'subject_012', 'subject_015', 'subject_017', 'subject_018',   'subject_028',  'subject_044', 'subject_048', 'subject_050', 'subject_051', 'subject_058', 'subject_059', 'subject_060',  'subject_124',  'subject_127', 'subject_134', 'subject_135', 'subject_137', 'subject_147', 'subject_148', 'subject_152', 'subject_153', 'subject_154', 'subject_155', 'subject_156', 'subject_158', 'subject_162', 'subject_163', 'subject_165']"
   ]
  },
  {
   "cell_type": "code",
   "execution_count": 45,
   "id": "7ec636a0",
   "metadata": {},
   "outputs": [],
   "source": [
    "validation=['subject_061', 'subject_065', 'subject_119','subject_126', 'subject_131', 'subject_133']"
   ]
  },
  {
   "cell_type": "code",
   "execution_count": 46,
   "id": "f7199bd5",
   "metadata": {},
   "outputs": [],
   "source": [
    "test=['subject_003', 'subject_008', 'subject_009', 'subject_019', 'subject_020', 'subject_021','subject_027','subject_033', 'subject_040']"
   ]
  },
  {
   "cell_type": "code",
   "execution_count": 49,
   "id": "4ee0c3b7",
   "metadata": {},
   "outputs": [
    {
     "data": {
      "text/plain": [
       "6"
      ]
     },
     "execution_count": 49,
     "metadata": {},
     "output_type": "execute_result"
    }
   ],
   "source": [
    "len(validation)"
   ]
  },
  {
   "cell_type": "code",
   "execution_count": 50,
   "id": "0e45263a",
   "metadata": {},
   "outputs": [
    {
     "data": {
      "text/plain": [
       "list"
      ]
     },
     "execution_count": 50,
     "metadata": {},
     "output_type": "execute_result"
    }
   ],
   "source": [
    "type(jk['subject_028']['hrir_l'][0][0])"
   ]
  },
  {
   "cell_type": "code",
   "execution_count": 51,
   "id": "79fb7693",
   "metadata": {},
   "outputs": [],
   "source": [
    "from collections.abc import Iterable\n",
    "def get_dimensions(lst):\n",
    "    dimensions = []\n",
    "    while isinstance(lst, Iterable):\n",
    "        dimensions.append(len(lst))\n",
    "        lst = lst[0] if lst else None\n",
    "    return dimensions"
   ]
  },
  {
   "cell_type": "code",
   "execution_count": 52,
   "id": "0bc8625f",
   "metadata": {},
   "outputs": [],
   "source": [
    "dc={}\n"
   ]
  },
  {
   "cell_type": "code",
   "execution_count": 371,
   "id": "4681c186",
   "metadata": {},
   "outputs": [],
   "source": []
  },
  {
   "cell_type": "code",
   "execution_count": 55,
   "id": "7f653550",
   "metadata": {},
   "outputs": [],
   "source": [
    "#new DPRTF\n",
    "def DPRTF_function_to_2d_list(list_1,list_2):\n",
    "    new_list_3Fx1 = []\n",
    "    for i in range(len(list_1)):\n",
    "#         new_row=[]\n",
    "        for j in range(len(list_1[0])):\n",
    "            l1=apply_stft_hrir(list_1[i][j])\n",
    "            l2=apply_stft_hrir(list_2[i][j])\n",
    "            list_sum_1=[sum(row)/len(row) for row in l1]\n",
    "            list_sum_2=[sum(row)/len(row) for row in l2]\n",
    "            \n",
    "            list_mag=[np.log10(np.abs(list_sum_2[i]/list_sum_1[i])) for i in range(len(list_sum_1))]\n",
    "            list_pha=[np.angle(list_sum_2[i]/list_sum_1[i]) for i in range(len(list_sum_1))]\n",
    "            \n",
    "            list_sin=[np.sin(a) for a in list_pha]\n",
    "            list_cos=[np.cos(a) for a in list_pha]\n",
    "            \n",
    "            list_fin=list_mag+list_sin+list_cos\n",
    "            \n",
    "            new_list_3Fx1.append(list_fin)\n",
    "            \n",
    "            \n",
    "#         new_row = [apply_stft_hrir(element) for element in row]\n",
    "#         new_r=new_row\n",
    "#         print(len(new_r[0][0]))\n",
    "#         print(len(new_r[0]))\n",
    "\n",
    "#         new_list.append(new_row)\n",
    "    return new_list_3Fx1"
   ]
  },
  {
   "cell_type": "code",
   "execution_count": null,
   "id": "ba3c16c6",
   "metadata": {},
   "outputs": [],
   "source": []
  },
  {
   "cell_type": "code",
   "execution_count": 6,
   "id": "59a37dc2",
   "metadata": {},
   "outputs": [
    {
     "name": "stdout",
     "output_type": "stream",
     "text": [
      "(0.8+0.6j)\n"
     ]
    }
   ],
   "source": [
    "x=1+2j\n",
    "y=2+1j\n",
    "print(x/y)"
   ]
  },
  {
   "cell_type": "code",
   "execution_count": null,
   "id": "29acbe50",
   "metadata": {},
   "outputs": [],
   "source": []
  },
  {
   "cell_type": "code",
   "execution_count": null,
   "id": "de3687ba",
   "metadata": {},
   "outputs": [],
   "source": [
    "#new hrir l r\n",
    "def apply_function_to_2d_list(list_1,list_2):\n",
    "    new_list_mag = []\n",
    "    new_list_pha = []\n",
    "    for i in range(len(list_1)):\n",
    "#         new_row=[]\n",
    "        for j in range(len(list_1[0])):\n",
    "            l1=apply_stft_hrir(list_1[i][j])\n",
    "            list_mag_1=[[np.log10(np.abs(l1[i][j])) for j in range(len(l1[0]))] for i in range(len(l1))]\n",
    "            list_pha_1=[[np.angle(l1[i][j]) for j in range(len(l1[0]))] for i in range(len(l1))]\n",
    "            \n",
    "            l2=apply_stft_hrir(list_2[i][j])\n",
    "            list_mag_2=[[np.log10(np.abs(l2[i][j])) for j in range(len(l2[0]))] for i in range(len(l2))]\n",
    "            list_pha_2=[[np.angle(l2[i][j]) for j in range(len(l2[0]))] for i in range(len(l2))]\n",
    "            m = len(list1)\n",
    "            n = len(list1[0])\n",
    "            list3 = []\n",
    "            list4 = []\n",
    "            for ii in range(m):\n",
    "                row1 = []\n",
    "                row2= []\n",
    "                for jj in range(n):\n",
    "                    row1.append([list_mag_1[ii][jj], list_mag_2[ii][jj]],[list_mag_1[ii][jj], list_mag_2[ii][jj]])\n",
    "                    row2.append([list_pha_1[ii][jj], list_pha_2[ii][jj]],[list_mag_1[ii][jj], list_mag_2[ii][jj]])\n",
    "                list3.append(row1)\n",
    "                list4.append(row2)\n",
    "            new_list_mag.append(list3)\n",
    "            new_list_pha.append(list4)\n",
    "            \n",
    "            \n",
    "#         new_row = [apply_stft_hrir(element) for element in row]\n",
    "#         new_r=new_row\n",
    "#         print(len(new_r[0][0]))\n",
    "#         print(len(new_r[0]))\n",
    "\n",
    "#         new_list.append(new_row)\n",
    "    return [new_list_mag,new_list_pha]"
   ]
  },
  {
   "cell_type": "code",
   "execution_count": null,
   "id": "799571e9",
   "metadata": {},
   "outputs": [],
   "source": []
  },
  {
   "cell_type": "code",
   "execution_count": null,
   "id": "f9e8d592",
   "metadata": {},
   "outputs": [],
   "source": []
  },
  {
   "cell_type": "code",
   "execution_count": null,
   "id": "7811cd02",
   "metadata": {},
   "outputs": [],
   "source": []
  },
  {
   "cell_type": "code",
   "execution_count": 53,
   "id": "4573c6dd",
   "metadata": {},
   "outputs": [],
   "source": [
    "# for a in ['subject_003']:\n",
    "#     hrtf_r=apply_stft_hrir(jk[a]['hrir_r'][0][0])[1:][:31]\n",
    "#     hrtf_l=apply_stft_hrir(jk[a]['hrir_l'][0][0])[1:][:31]\n",
    "#     dc[a]=[hrtf_l,hrtf_r]"
   ]
  },
  {
   "cell_type": "code",
   "execution_count": 56,
   "id": "7c48bf68",
   "metadata": {},
   "outputs": [],
   "source": [
    "for a in ['subject_003']:\n",
    "    fin=apply_function_to_2d_list(jk[a]['hrir_l'],jk[a]['hrir_r'])\n",
    "#     hrtf_l=apply_function_to_2d_list()\n",
    "\n",
    "#     for i in range(hrtf_r):\n",
    "#         for j in range (hrtf_r[0]):\n",
    "            \n",
    "        \n",
    "    dc[a]=fin"
   ]
  },
  {
   "cell_type": "code",
   "execution_count": 60,
   "id": "817abbe9",
   "metadata": {},
   "outputs": [],
   "source": [
    "main_dc={}\n",
    "t_dc={}\n",
    "v_dc={}\n",
    "test_dc={}"
   ]
  },
  {
   "cell_type": "code",
   "execution_count": null,
   "id": "2d9bc128",
   "metadata": {},
   "outputs": [
    {
     "name": "stdout",
     "output_type": "stream",
     "text": [
      "training\n",
      "subject_010\n",
      "subject_011\n",
      "subject_012\n",
      "subject_015\n",
      "subject_017\n",
      "subject_018\n",
      "subject_028\n",
      "subject_044\n",
      "subject_048\n",
      "subject_050\n",
      "subject_051\n",
      "subject_058\n",
      "subject_059\n",
      "subject_060\n",
      "subject_124\n",
      "subject_127\n",
      "subject_134\n",
      "subject_135\n",
      "subject_137\n",
      "subject_147\n",
      "subject_148\n",
      "subject_152\n",
      "subject_153\n",
      "subject_154\n",
      "subject_155\n",
      "subject_156\n"
     ]
    }
   ],
   "source": [
    "print('training')\n",
    "for a in training:\n",
    "    fin=apply_function_to_2d_list(jk[a]['hrir_l'],jk[a]['hrir_r'])\n",
    "    list_test=DPRTF_function_to_2d_list(jk[a]['hrir_l'],jk[a]['hrir_r'])\n",
    "    print(a)\n",
    "    t_dc['mag']=t_dc['mag']+fin[0]\n",
    "    t_dc['pha']=t_dc['pha']+fin[1]\n",
    "    t_dc['test']=t_dc['test']+list_test\n",
    "main_dc['training']=t_dc\n",
    "print('validation')\n",
    "for a in validation:\n",
    "    fin=apply_function_to_2d_list(jk[a]['hrir_l'],jk[a]['hrir_r'])\n",
    "    list_test=DPRTF_function_to_2d_list(jk[a]['hrir_l'],jk[a]['hrir_r'])\n",
    "    print(a)\n",
    "    v_dc['mag']=v_dc['mag']+fin[0]\n",
    "    v_dc['pha']=v_dc['pha']+fin[1]\n",
    "    v_dc['test']=v_dc['test']+list_test\n",
    "main_dc['validation']=v_dc\n",
    "print('testing')\n",
    "for a in test:\n",
    "    fin=apply_function_to_2d_list(jk[a]['hrir_l'],jk[a]['hrir_r'])\n",
    "    list_test=DPRTF_function_to_2d_list(jk[a]['hrir_l'],jk[a]['hrir_r'])\n",
    "    print(a)\n",
    "    test_dc['mag']=test_dc['mag']+fin[0]\n",
    "    test_dc['pha']=test_dc['pha']+fin[1]\n",
    "    test_dc['test']=test_dc['test']+list_test\n",
    "main_dc['testing']=test_dc"
   ]
  },
  {
   "cell_type": "code",
   "execution_count": 65,
   "id": "5a7e5d12",
   "metadata": {},
   "outputs": [
    {
     "data": {
      "text/plain": [
       "{}"
      ]
     },
     "execution_count": 65,
     "metadata": {},
     "output_type": "execute_result"
    }
   ],
   "source": []
  },
  {
   "cell_type": "code",
   "execution_count": null,
   "id": "0d82853b",
   "metadata": {},
   "outputs": [],
   "source": []
  },
  {
   "cell_type": "code",
   "execution_count": 1,
   "id": "7c352313",
   "metadata": {},
   "outputs": [
    {
     "name": "stdout",
     "output_type": "stream",
     "text": [
      "Theta: 1.1071487177940904\n",
      "Magnitude: 2.23606797749979\n"
     ]
    }
   ],
   "source": [
    "import numpy as np\n",
    "\n",
    "x = 1 + 2j\n",
    "\n",
    "theta = np.angle(x)\n",
    "magnitude = np.abs(x)\n",
    "\n",
    "print(\"Theta:\", theta)\n",
    "print(\"Magnitude:\", magnitude)"
   ]
  },
  {
   "cell_type": "code",
   "execution_count": null,
   "id": "7960d953",
   "metadata": {},
   "outputs": [],
   "source": []
  },
  {
   "cell_type": "code",
   "execution_count": null,
   "id": "4d88a155",
   "metadata": {},
   "outputs": [],
   "source": []
  },
  {
   "cell_type": "code",
   "execution_count": null,
   "id": "7c3b5858",
   "metadata": {},
   "outputs": [],
   "source": []
  },
  {
   "cell_type": "code",
   "execution_count": null,
   "id": "b8fe3949",
   "metadata": {},
   "outputs": [],
   "source": []
  },
  {
   "cell_type": "code",
   "execution_count": 4,
   "id": "b967ac19",
   "metadata": {},
   "outputs": [
    {
     "data": {
      "text/plain": [
       "{}"
      ]
     },
     "execution_count": 4,
     "metadata": {},
     "output_type": "execute_result"
    }
   ],
   "source": [
    "main_dc\n"
   ]
  },
  {
   "cell_type": "code",
   "execution_count": null,
   "id": "90f07b56",
   "metadata": {},
   "outputs": [],
   "source": []
  },
  {
   "cell_type": "code",
   "execution_count": null,
   "id": "b452904d",
   "metadata": {},
   "outputs": [],
   "source": []
  },
  {
   "cell_type": "code",
   "execution_count": null,
   "id": "7c9ba8e5",
   "metadata": {},
   "outputs": [],
   "source": []
  },
  {
   "cell_type": "code",
   "execution_count": null,
   "id": "c3c374fa",
   "metadata": {},
   "outputs": [],
   "source": []
  },
  {
   "cell_type": "code",
   "execution_count": 58,
   "id": "8af9f251",
   "metadata": {},
   "outputs": [
    {
     "name": "stdout",
     "output_type": "stream",
     "text": [
      "25\n",
      "50\n",
      "128\n",
      "31\n",
      "2\n",
      "<class 'dict'>\n",
      "<class 'list'>\n",
      "<class 'list'>\n",
      "<class 'list'>\n",
      "<class 'list'>\n",
      "<class 'list'>\n"
     ]
    }
   ],
   "source": [
    "print(len(dc['subject_003']))\n",
    "print(len(dc['subject_003'][0]))\n",
    "print(len(dc['subject_003'][0][0]))\n",
    "print(len(dc['subject_003'][0][0][0]))\n",
    "print(len(dc['subject_003'][0][0][0][0]))\n",
    "print(type(dc))\n",
    "print(type(dc['subject_003']))\n",
    "print(type(dc['subject_003'][0]))\n",
    "print(type(dc['subject_003'][0][0]))\n",
    "print(type(dc['subject_003'][0][0][0]))\n",
    "print(type(dc['subject_003'][0][0][0][0]))"
   ]
  },
  {
   "cell_type": "code",
   "execution_count": 59,
   "id": "8981b7f2",
   "metadata": {},
   "outputs": [
    {
     "data": {
      "text/plain": [
       "[25, 50, 128, 31, 2]"
      ]
     },
     "execution_count": 59,
     "metadata": {},
     "output_type": "execute_result"
    }
   ],
   "source": [
    "get_dimensions(dc['subject_003'])"
   ]
  },
  {
   "cell_type": "code",
   "execution_count": null,
   "id": "685514f5",
   "metadata": {},
   "outputs": [],
   "source": []
  },
  {
   "cell_type": "code",
   "execution_count": 310,
   "id": "2fe4a782",
   "metadata": {},
   "outputs": [],
   "source": [
    "# def apply_function_to_2d_list(list):\n",
    "#     new_list = []\n",
    "#     for row in list:\n",
    "#         new_row = [apply_stft_hrir(element) for element in row]\n",
    "#         new_r=new_row\n",
    "# #         print(len(new_r[0][0]))\n",
    "# #         print(len(new_r[0]))\n",
    "#         new_list.append(new_r)\n",
    "#     return new_list"
   ]
  },
  {
   "cell_type": "code",
   "execution_count": null,
   "id": "ef9dfa73",
   "metadata": {},
   "outputs": [],
   "source": []
  },
  {
   "cell_type": "code",
   "execution_count": null,
   "id": "21d03f74",
   "metadata": {},
   "outputs": [],
   "source": []
  },
  {
   "cell_type": "code",
   "execution_count": null,
   "id": "4bcdde75",
   "metadata": {},
   "outputs": [],
   "source": [
    "\n"
   ]
  },
  {
   "cell_type": "code",
   "execution_count": null,
   "id": "475c272c",
   "metadata": {},
   "outputs": [],
   "source": []
  },
  {
   "cell_type": "code",
   "execution_count": null,
   "id": "80460927",
   "metadata": {},
   "outputs": [],
   "source": []
  },
  {
   "cell_type": "code",
   "execution_count": null,
   "id": "32839c92",
   "metadata": {},
   "outputs": [],
   "source": []
  },
  {
   "cell_type": "code",
   "execution_count": null,
   "id": "19be2edb",
   "metadata": {},
   "outputs": [],
   "source": []
  },
  {
   "cell_type": "code",
   "execution_count": null,
   "id": "d0a86c67",
   "metadata": {},
   "outputs": [],
   "source": []
  },
  {
   "cell_type": "code",
   "execution_count": null,
   "id": "18bd95cc",
   "metadata": {},
   "outputs": [],
   "source": []
  },
  {
   "cell_type": "code",
   "execution_count": null,
   "id": "65b46a2f",
   "metadata": {},
   "outputs": [],
   "source": []
  },
  {
   "cell_type": "code",
   "execution_count": null,
   "id": "c2232853",
   "metadata": {},
   "outputs": [],
   "source": []
  },
  {
   "cell_type": "code",
   "execution_count": 146,
   "id": "e32d923c",
   "metadata": {},
   "outputs": [
    {
     "data": {
      "text/plain": [
       "dict_keys(['OnR', 'OnL', 'ITD', 'hrir_r', 'hrir_l', 'name'])"
      ]
     },
     "execution_count": 146,
     "metadata": {},
     "output_type": "execute_result"
    }
   ],
   "source": [
    "jk[\"subject_003\"].keys()"
   ]
  },
  {
   "cell_type": "code",
   "execution_count": null,
   "id": "70dc2df8",
   "metadata": {},
   "outputs": [],
   "source": []
  },
  {
   "cell_type": "code",
   "execution_count": null,
   "id": "32c8d382",
   "metadata": {},
   "outputs": [],
   "source": []
  },
  {
   "cell_type": "code",
   "execution_count": null,
   "id": "5f7f9877",
   "metadata": {},
   "outputs": [],
   "source": []
  },
  {
   "cell_type": "code",
   "execution_count": null,
   "id": "746064fc",
   "metadata": {},
   "outputs": [],
   "source": []
  },
  {
   "cell_type": "code",
   "execution_count": null,
   "id": "77aae6eb",
   "metadata": {},
   "outputs": [],
   "source": []
  },
  {
   "cell_type": "code",
   "execution_count": null,
   "id": "7d152e6d",
   "metadata": {},
   "outputs": [],
   "source": []
  },
  {
   "cell_type": "code",
   "execution_count": null,
   "id": "3007b9e8",
   "metadata": {},
   "outputs": [],
   "source": []
  },
  {
   "cell_type": "code",
   "execution_count": 15,
   "id": "2d6ab3e8",
   "metadata": {},
   "outputs": [],
   "source": [
    "#building CNN"
   ]
  },
  {
   "cell_type": "code",
   "execution_count": 140,
   "id": "78f1d52d",
   "metadata": {},
   "outputs": [],
   "source": [
    "# # Input layers\n",
    "# input_mag = Input(shape=(F, N, 2))  # Magnitude spectrogram input\n",
    "# input_phase = Input(shape=(F, N, 2))  # Phase spectrogram input"
   ]
  },
  {
   "cell_type": "code",
   "execution_count": null,
   "id": "37ba2104",
   "metadata": {},
   "outputs": [],
   "source": [
    "from keras.models import Model\n",
    "from keras.layers import Input, Conv2D, Activation, BatchNormalization\n",
    "from keras.activations import tanh, relu, sigmoid\n",
    "import numpy as np"
   ]
  },
  {
   "cell_type": "code",
   "execution_count": 16,
   "id": "d4b65b72",
   "metadata": {},
   "outputs": [],
   "source": [
    "# Assuming the input shape for each frame is FxNx2\n",
    "F = 128  # Number of frequency bins\n",
    "N = 31  # Number of time frames"
   ]
  },
  {
   "cell_type": "code",
   "execution_count": 17,
   "id": "966c87a6",
   "metadata": {},
   "outputs": [],
   "source": [
    "# Input layers\n",
    "input_mag = Input(shape=(F, N, 4))  # Magnitude spectrogram input\n",
    "input_phase = Input(shape=(F, N, 4))  # Phase spectrogram input"
   ]
  },
  {
   "cell_type": "code",
   "execution_count": 18,
   "id": "69b086ba",
   "metadata": {},
   "outputs": [],
   "source": [
    "# Magnitude branch\n",
    "mag_conv1 = Conv2D(32, (1, 1), activation=tanh)(input_mag)\n",
    "mag_conv2 = Conv2D(64, (3, 3))(mag_conv1)\n",
    "mag_bn = BatchNormalization()(mag_conv2)\n",
    "mag_relu = Activation(relu)(mag_bn)"
   ]
  },
  {
   "cell_type": "code",
   "execution_count": null,
   "id": "376ef798",
   "metadata": {},
   "outputs": [],
   "source": [
    "# Phase branch\n",
    "phase_conv1 = Conv2D(32, (1, 1))(input_phase)\n",
    "phase_activation_sin = Activation(lambda x: np.sin(x))(phase_conv1)\n",
    "phase_activation_cos = Activation(lambda x: np.cos(x))(phase_conv1)\n",
    "phase_conv2 = Conv2D(64, (3, 3))(np.concatenate(phase_activation_sin,phase_activation_cos,axis=-1)\n",
    "phase_bn = BatchNormalization()(phase_conv2)\n",
    "phase_relu = Activation(relu)(phase_bn)\n",
    "\n",
    "\n",
    "# layers.Conv2D(32, (1, 1), input_shape=(128, 31, 4)),\n",
    "#     layers.Lambda(lambda x: keras.backend.sin(x), output_shape=(128, 31, 32)),\n",
    "#     layers.Lambda(lambda x: keras.backend.cos(x), output_shape=(128, 31, 32)),\n",
    "#     layers.Concatenate(axis=-1),\n",
    "#     layers.Conv2D(64, (3, 3), activation='relu', padding='same'),\n",
    "#     layers.BatchNormalization()"
   ]
  },
  {
   "cell_type": "code",
   "execution_count": 20,
   "id": "0da6ece4",
   "metadata": {},
   "outputs": [],
   "source": [
    "# Mask/weight branch\n",
    "mask_conv1 = Conv2D(64, (3, 3))(input_mag)\n",
    "mask_bn1 = BatchNormalization()(mask_conv1)\n",
    "mask_relu1 = Activation(relu)(mask_bn1)\n",
    "mask_conv2 = Conv2D(64, (3, 3))(mask_relu1)\n",
    "mask_bn2 = BatchNormalization()(mask_conv2)\n",
    "mask_sigmoid = Activation(sigmoid)(mask_bn2)"
   ]
  },
  {
   "cell_type": "code",
   "execution_count": null,
   "id": "11666ebd",
   "metadata": {},
   "outputs": [],
   "source": [
    "# Multiply the learned magnitude and phase features with the mask\n",
    "mag_masked = mag_relu * mask_sigmoid\n",
    "phase_masked = phase_relu * mask_sigmoid"
   ]
  },
  {
   "cell_type": "code",
   "execution_count": null,
   "id": "801a716a",
   "metadata": {},
   "outputs": [],
   "source": [
    "# Create separate models for each branch\n",
    "magnitude_model = Model(inputs=input_mag, outputs=mag_masked)\n",
    "phase_model = Model(inputs=input_phase, outputs=phase_masked)\n",
    "mask_model = Model(inputs=input_mag, outputs=mask_sigmoid)"
   ]
  },
  {
   "cell_type": "code",
   "execution_count": null,
   "id": "a24f7298",
   "metadata": {},
   "outputs": [],
   "source": [
    "# Print the summary of the magnitude branch model\n",
    "magnitude_model.summary()"
   ]
  },
  {
   "cell_type": "code",
   "execution_count": null,
   "id": "9c12240e",
   "metadata": {},
   "outputs": [],
   "source": [
    "#CRNN \n",
    "from keras.layers import Concatenate, MaxPooling2D, GRU, Dense\n",
    "\n",
    "# Concatenate magnitude and phase features\n",
    "concatenated_features = Concatenate(axis=-1)([mag_masked, phase_masked])\n",
    "\n",
    "# Convolutional modules\n",
    "for _ in range(5):\n",
    "    concatenated_features = Conv2D(64, (3, 3), activation=relu)(concatenated_features)\n",
    "    concatenated_features = BatchNormalization()(concatenated_features)\n",
    "    concatenated_features = Conv2D(64, (3, 3), activation=relu)(concatenated_features)\n",
    "    concatenated_features = BatchNormalization()(concatenated_features)\n",
    "\n",
    "    # Max pooling to compress the frequency dimension\n",
    "    concatenated_features = MaxPooling2D(pool_size=(2,1))(concatenated_features)\n",
    "\n",
    "# Reshape to prepare for GRU\n",
    "reshaped_features = tf.keras.layers.Reshape(target_shape=(2*F,N))(concatenated_features)\n",
    "\n",
    "# Gated Recurrent Unit (GRU)\n",
    "gru_output = GRU(256, return_sequences=False)(reshaped_features)\n",
    "\n",
    "# Fully-connected layer for DP-RTF prediction\n",
    "fc_output = Dense(F, activation=tanh)(gru_output)\n",
    "\n",
    "# Activation to fit DP-RTF elements into the range from -1 to 1\n",
    "output = Activation(tanh)(fc_output)\n",
    "\n",
    "# Create the final model\n",
    "model = Model(inputs=[input_mag, input_phase], outputs=output)\n",
    "\n",
    "# Print the summary of the model\n",
    "model.summary()\n",
    "\n",
    "\n",
    "\n",
    "\n",
    "\n",
    "\n"
   ]
  },
  {
   "cell_type": "code",
   "execution_count": null,
   "id": "35c9af72",
   "metadata": {},
   "outputs": [],
   "source": []
  },
  {
   "cell_type": "code",
   "execution_count": null,
   "id": "f05118ad",
   "metadata": {},
   "outputs": [],
   "source": []
  },
  {
   "cell_type": "code",
   "execution_count": null,
   "id": "bb48afdc",
   "metadata": {},
   "outputs": [],
   "source": [
    "import numpy as np\n",
    "import tensorflow as tf\n",
    "from tensorflow.keras.layers import Input, Conv2D, BatchNormalization, Activation, Concatenate, MaxPooling2D, Reshape, GRU, Dense\n",
    "from tensorflow.keras.activations import tanh, relu, sigmoid\n",
    "\n",
    "# Define the model architecture\n",
    "def create_model(F, N):\n",
    "    # Input layers\n",
    "    input_mag = Input(shape=(F, N, 4))  # Magnitude spectrogram input\n",
    "    input_phase = Input(shape=(F, N, 4))  # Phase spectrogram input\n",
    "\n",
    "    # Magnitude branch\n",
    "    mag_conv1 = Conv2D(32, (1, 1), activation=tanh)(input_mag)\n",
    "    mag_conv2 = Conv2D(64, (3, 3))(mag_conv1)\n",
    "    mag_bn = BatchNormalization()(mag_conv2)\n",
    "    mag_relu = Activation(relu)(mag_bn)\n",
    "\n",
    "    # Phase branch\n",
    "    phase_conv1 = Conv2D(32, (1, 1))(input_phase)\n",
    "    phase_activation_sin = Activation(lambda x: np.sin(x))(phase_conv1)\n",
    "    phase_activation_cos = Activation(lambda x: np.cos(x))(phase_conv1)\n",
    "    phase_concat = Concatenate(axis=-1)([phase_activation_sin, phase_activation_cos])\n",
    "    phase_conv2 = Conv2D(64, (3, 3))(phase_concat)\n",
    "    phase_bn = BatchNormalization()(phase_conv2)\n",
    "    phase_relu = Activation(relu)(phase_bn)\n",
    "\n",
    "    # Mask/weight branch\n",
    "    mask_conv1 = Conv2D(64, (3, 3))(input_mag)\n",
    "    mask_bn1 = BatchNormalization()(mask_conv1)\n",
    "    mask_relu1 = Activation(relu)(mask_bn1)\n",
    "    mask_conv2 = Conv2D(64, (3, 3))(mask_relu1)\n",
    "    mask_bn2 = BatchNormalization()(mask_conv2)\n",
    "    mask_sigmoid = Activation(sigmoid)(mask_bn2)\n",
    "\n",
    "    # Multiply the learned magnitude and phase features with the mask\n",
    "    mag_masked = tf.keras.layers.Multiply()([mag_relu, mask_sigmoid])\n",
    "    phase_masked = tf.keras.layers.Multiply()([phase_relu, mask_sigmoid])\n",
    "\n",
    "    # Concatenate magnitude and phase features\n",
    "    concatenated_features = Concatenate(axis=-1)([mag_masked, phase_masked])\n",
    "\n",
    "    # Convolutional modules\n",
    "    for _ in range(5):\n",
    "        concatenated_features = Conv2D(64, (3, 3), activation=relu)(concatenated_features)\n",
    "        concatenated_features = BatchNormalization()(concatenated_features)\n",
    "        concatenated_features = Conv2D(64, (3, 3), activation=relu)(concatenated_features)\n",
    "        concatenated_features = BatchNormalization()(concatenated_features)\n",
    "        concatenated_features = MaxPooling2D(pool_size=(2, 1))(concatenated_features)\n",
    "\n",
    "    # Reshape to prepare for GRU\n",
    "    reshaped_features = Reshape(target_shape=(2 * F, N))(concatenated_features)\n",
    "\n",
    "    # Gated Recurrent Unit (GRU)\n",
    "    gru_output = GRU(256, return_sequences=False)(reshaped_features)\n",
    "\n",
    "    # Fully-connected layer for DP-RTF prediction\n",
    "    fc_output = Dense(F, activation=tanh)(gru_output)\n",
    "\n",
    "    # Create the model\n",
    "    model = tf.keras.Model(inputs=[input_mag, input_phase], outputs=fc_output)\n",
    "    return model\n",
    "\n",
    "# Create the model\n",
    "model = create_model(F, N)  # Replace F and N with appropriate values\n",
    "\n",
    "# Compile the model\n",
    "model.compile(optimizer='adam', loss='mse')\n",
    "\n",
    "# Generate dummy data for training and testing\n",
    "input_mag_train = np.random.rand(100, F, N, 4)  # Replace 100 with the actual training data size\n",
    "input_phase_train = np.random.rand(100, F, N, 4)\n",
    "output_train = np.random.rand(100, F)  # Replace 100 with the actual training data size\n",
    "\n",
    "input_mag_test = np.random.rand(20, F, N, 4)  # Replace 20 with the actual test data size\n",
    "input_phase_test = np.random.rand(20, F, N, 4)\n",
    "output_test = np.random.rand(20, F)  # Replace 20 with the actual test data size\n",
    "\n",
    "# Train the model\n",
    "model.fit([input_mag_train, input_phase_train], output_train, epochs=10, batch_size=32)\n",
    "\n",
    "# Test the model\n",
    "loss = model.evaluate([input_mag_test, input_phase_test], output_test)\n",
    "print('Test loss:', loss)\n"
   ]
  },
  {
   "cell_type": "code",
   "execution_count": null,
   "id": "ea0f3ffb",
   "metadata": {},
   "outputs": [],
   "source": []
  },
  {
   "cell_type": "code",
   "execution_count": null,
   "id": "dd312f50",
   "metadata": {},
   "outputs": [],
   "source": []
  },
  {
   "cell_type": "code",
   "execution_count": null,
   "id": "f494f5fb",
   "metadata": {},
   "outputs": [],
   "source": []
  },
  {
   "cell_type": "code",
   "execution_count": null,
   "id": "576b0827",
   "metadata": {},
   "outputs": [],
   "source": []
  },
  {
   "cell_type": "code",
   "execution_count": null,
   "id": "d437e02c",
   "metadata": {},
   "outputs": [],
   "source": []
  },
  {
   "cell_type": "code",
   "execution_count": null,
   "id": "d9294758",
   "metadata": {},
   "outputs": [],
   "source": []
  }
 ],
 "metadata": {
  "kernelspec": {
   "display_name": "Python 3 (ipykernel)",
   "language": "python",
   "name": "python3"
  },
  "language_info": {
   "codemirror_mode": {
    "name": "ipython",
    "version": 3
   },
   "file_extension": ".py",
   "mimetype": "text/x-python",
   "name": "python",
   "nbconvert_exporter": "python",
   "pygments_lexer": "ipython3",
   "version": "3.10.9"
  }
 },
 "nbformat": 4,
 "nbformat_minor": 5
}
